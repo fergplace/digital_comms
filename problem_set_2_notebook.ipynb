{
 "cells": [
  {
   "cell_type": "code",
   "execution_count": 42,
   "metadata": {},
   "outputs": [],
   "source": [
    "import numpy as np"
   ]
  },
  {
   "cell_type": "markdown",
   "metadata": {},
   "source": [
    "# Problem 1"
   ]
  },
  {
   "cell_type": "code",
   "execution_count": 43,
   "metadata": {},
   "outputs": [],
   "source": [
    "v_p = 100 *1e-6 \n",
    "R_in = 50 \n",
    "P_in =  (v_p**2 )/ (8* R_in)"
   ]
  },
  {
   "cell_type": "markdown",
   "metadata": {},
   "source": [
    "simple funcs "
   ]
  },
  {
   "cell_type": "code",
   "execution_count": 44,
   "metadata": {},
   "outputs": [],
   "source": [
    "def db ( val) -> float :\n",
    "    '''simple db converter'''\n",
    "    return 10*np.log10(val)\n",
    "def inv_db (val) :\n",
    "    return 10**(val/10) "
   ]
  },
  {
   "cell_type": "code",
   "execution_count": 45,
   "metadata": {},
   "outputs": [
    {
     "name": "stdout",
     "output_type": "stream",
     "text": [
      "-106.02059991327963\n"
     ]
    }
   ],
   "source": [
    "P_in_db = db(P_in)\n",
    "print(P_in_db)"
   ]
  },
  {
   "cell_type": "markdown",
   "metadata": {},
   "source": [
    "general constants "
   ]
  },
  {
   "cell_type": "code",
   "execution_count": 46,
   "metadata": {},
   "outputs": [],
   "source": [
    "k = 1.380649 * 1e-23\n",
    "T_o = 290 "
   ]
  },
  {
   "cell_type": "code",
   "execution_count": 47,
   "metadata": {},
   "outputs": [
    {
     "name": "stdout",
     "output_type": "stream",
     "text": [
      "-114.94428732430868\n"
     ]
    }
   ],
   "source": [
    "BW_intial = 800 * 1e6\n",
    "P_in_n = k*T_o * BW_intial\n",
    "P_in_n_db = db(P_in_n)\n",
    "print(P_in_n_db)"
   ]
  },
  {
   "cell_type": "code",
   "execution_count": 48,
   "metadata": {},
   "outputs": [],
   "source": [
    "F_amp_db  = 10  "
   ]
  },
  {
   "cell_type": "code",
   "execution_count": 49,
   "metadata": {},
   "outputs": [
    {
     "name": "stdout",
     "output_type": "stream",
     "text": [
      "-1.07631258897095\n"
     ]
    }
   ],
   "source": [
    "SNR_db = P_in_db - P_in_n_db - F_amp_db\n",
    "print(SNR_db)"
   ]
  },
  {
   "cell_type": "markdown",
   "metadata": {},
   "source": [
    "let SNR = 10 db"
   ]
  },
  {
   "cell_type": "code",
   "execution_count": 50,
   "metadata": {},
   "outputs": [
    {
     "name": "stdout",
     "output_type": "stream",
     "text": [
      "999.9999999999998\n"
     ]
    }
   ],
   "source": [
    "v_p_new = np.sqrt(8*R_in * inv_db( (10 + P_in_db + F_amp_db)))\n",
    "print(v_p_new*1e6)"
   ]
  },
  {
   "cell_type": "markdown",
   "metadata": {},
   "source": [
    "changin BW = 5Mhz "
   ]
  },
  {
   "cell_type": "code",
   "execution_count": 51,
   "metadata": {},
   "outputs": [
    {
     "name": "stdout",
     "output_type": "stream",
     "text": [
      "-136.98548715086793\n"
     ]
    }
   ],
   "source": [
    "BW_new = 5 * 1e6\n",
    "P_in_n = k*T_o * BW_new\n",
    "P_in_n_db = db(P_in_n)\n",
    "print(P_in_n_db)"
   ]
  },
  {
   "cell_type": "code",
   "execution_count": 52,
   "metadata": {},
   "outputs": [],
   "source": [
    "F_BPF = 4 "
   ]
  },
  {
   "cell_type": "code",
   "execution_count": 53,
   "metadata": {},
   "outputs": [
    {
     "name": "stdout",
     "output_type": "stream",
     "text": [
      "1584.8931924611138\n"
     ]
    }
   ],
   "source": [
    "v_p_new = np.sqrt(8*R_in * inv_db( (10 + P_in_db + F_amp_db + F_BPF)))\n",
    "print(v_p_new*1e6)"
   ]
  },
  {
   "cell_type": "markdown",
   "metadata": {},
   "source": [
    "SINAD"
   ]
  },
  {
   "cell_type": "code",
   "execution_count": 58,
   "metadata": {},
   "outputs": [
    {
     "name": "stdout",
     "output_type": "stream",
     "text": [
      "10\n"
     ]
    }
   ],
   "source": [
    "ENOB = int(np.floor((62 - 1.76 ) / 6.02 ) )\n",
    "print(ENOB)"
   ]
  },
  {
   "cell_type": "markdown",
   "metadata": {},
   "source": [
    "# Problem 2"
   ]
  },
  {
   "cell_type": "code",
   "execution_count": 60,
   "metadata": {},
   "outputs": [],
   "source": [
    "T_amp = 320 \n",
    "T_o = 290"
   ]
  },
  {
   "cell_type": "code",
   "execution_count": 65,
   "metadata": {},
   "outputs": [],
   "source": [
    "T_A = 300\n",
    "L_B = inv_db(4)\n",
    "T_B = T_amp * (L_B - 1)\n",
    "G_LNA = inv_db(18)\n",
    "F_LNA = inv_db(3)\n",
    "T_C = T_o * ( F_LNA - 1)\n",
    "F_RX = inv_db(12)\n",
    "T_D = T_o * ( F_RX -1 )"
   ]
  },
  {
   "cell_type": "code",
   "execution_count": 66,
   "metadata": {},
   "outputs": [
    {
     "name": "stdout",
     "output_type": "stream",
     "text": [
      "300 483.80365808306567 288.62607134097505 4306.190258137229\n"
     ]
    }
   ],
   "source": [
    "print(T_A, T_B, T_C, T_D)"
   ]
  },
  {
   "cell_type": "code",
   "execution_count": 72,
   "metadata": {},
   "outputs": [
    {
     "data": {
      "text/plain": [
       "array([[3.00000000e+02, 4.83803658e+02],\n",
       "       [1.00000000e+00, 3.98107171e-01]])"
      ]
     },
     "execution_count": 72,
     "metadata": {},
     "output_type": "execute_result"
    }
   ],
   "source": [
    "#make arrays for each temp/ gain pair \n",
    "A = [T_A, 1]\n",
    "B = [T_B, 1/L_B]\n",
    "C = [T_C,  G_LNA]\n",
    "D = [T_D, 1]\n"
   ]
  },
  {
   "cell_type": "code",
   "execution_count": 144,
   "metadata": {},
   "outputs": [],
   "source": [
    "def Teq_func(input : tuple ) :\n",
    "    input_as_mat = np.vstack(input).T  #put all tuples into matrix, firt row is temps, 2nd is gain\n",
    "    Teq = np.ones(np.shape(input)[0] ) #tmp array for Teq \n",
    "    Teq[0] = input_as_mat[0][0] #just get first element \n",
    "    for i in np.arange(1, len(Teq), 1) :\n",
    "        #take temp over (1:i) gains \n",
    "        Teq[i] = input_as_mat[0][i] / np.prod(input_as_mat[1][1:i]) \n",
    "    return input_as_mat , Teq"
   ]
  },
  {
   "cell_type": "code",
   "execution_count": 145,
   "metadata": {},
   "outputs": [
    {
     "name": "stdout",
     "output_type": "stream",
     "text": [
      "1680.2320924175815\n"
     ]
    }
   ],
   "source": [
    "input_as_mat , Teq= Teq_func( (A, B, C, D))\n",
    "print(np.sum(Teq))"
   ]
  },
  {
   "cell_type": "code",
   "execution_count": 146,
   "metadata": {},
   "outputs": [
    {
     "name": "stdout",
     "output_type": "stream",
     "text": [
      "767.726364536016\n"
     ]
    }
   ],
   "source": [
    "input_as_mat , Teq= Teq_func( (A, C, B, D))\n",
    "print(np.sum(Teq))"
   ]
  }
 ],
 "metadata": {
  "kernelspec": {
   "display_name": "ee5020",
   "language": "python",
   "name": "python3"
  },
  "language_info": {
   "codemirror_mode": {
    "name": "ipython",
    "version": 3
   },
   "file_extension": ".py",
   "mimetype": "text/x-python",
   "name": "python",
   "nbconvert_exporter": "python",
   "pygments_lexer": "ipython3",
   "version": "3.10.14"
  }
 },
 "nbformat": 4,
 "nbformat_minor": 2
}
